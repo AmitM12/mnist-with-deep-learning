{
 "cells": [
  {
   "cell_type": "markdown",
   "id": "c5920613",
   "metadata": {},
   "source": [
    "## Importing the necessary modules"
   ]
  },
  {
   "cell_type": "code",
   "execution_count": 38,
   "id": "81b810f3",
   "metadata": {
    "ExecuteTime": {
     "end_time": "2021-08-17T12:19:52.151869Z",
     "start_time": "2021-08-17T12:19:52.147819Z"
    }
   },
   "outputs": [],
   "source": [
    "import pandas as pd\n",
    "import numpy as np\n",
    "import os\n",
    "import pathlib\n",
    "import PIL\n",
    "\n",
    "import tensorflow as tf\n",
    "from tensorflow import keras\n",
    "from tensorflow.keras import layers\n",
    "from tensorflow.keras.models import Sequential\n",
    "from tensorflow.keras.preprocessing import image_dataset_from_directory"
   ]
  },
  {
   "cell_type": "markdown",
   "id": "c93d090c",
   "metadata": {},
   "source": [
    "## Loading the data"
   ]
  },
  {
   "cell_type": "code",
   "execution_count": 21,
   "id": "1605a661",
   "metadata": {
    "ExecuteTime": {
     "end_time": "2021-08-17T11:59:53.219579Z",
     "start_time": "2021-08-17T11:59:53.216545Z"
    }
   },
   "outputs": [],
   "source": [
    "train_dir = pathlib.Path('trainingSet')\n",
    "test_dir = pathlib.Path('testSet')"
   ]
  },
  {
   "cell_type": "code",
   "execution_count": 22,
   "id": "d9e096c9",
   "metadata": {
    "ExecuteTime": {
     "end_time": "2021-08-17T11:59:53.572247Z",
     "start_time": "2021-08-17T11:59:53.410554Z"
    }
   },
   "outputs": [
    {
     "data": {
      "text/plain": [
       "42000"
      ]
     },
     "execution_count": 22,
     "metadata": {},
     "output_type": "execute_result"
    }
   ],
   "source": [
    "image_count = len(list(train_dir.glob('*/*.jpg')))\n",
    "image_count"
   ]
  },
  {
   "cell_type": "code",
   "execution_count": 23,
   "id": "6112d188",
   "metadata": {
    "ExecuteTime": {
     "end_time": "2021-08-17T12:01:03.708605Z",
     "start_time": "2021-08-17T12:01:03.677183Z"
    }
   },
   "outputs": [
    {
     "data": {
      "image/png": "[encoded data removed]",
      "text/plain": [
       "<PIL.JpegImagePlugin.JpegImageFile image mode=L size=28x28 at 0x7F55A7B7C588>"
      ]
     },
     "execution_count": 23,
     "metadata": {},
     "output_type": "execute_result"
    }
   ],
   "source": [
    "zero = list(train_dir.glob('0/*.jpg'))\n",
    "PIL.Image.open(str(zero[0]))"
   ]
  },
  {
   "cell_type": "code",
   "execution_count": 43,
   "id": "75afc98d",
   "metadata": {
    "ExecuteTime": {
     "end_time": "2021-08-17T12:21:28.909240Z",
     "start_time": "2021-08-17T12:21:28.906738Z"
    }
   },
   "outputs": [],
   "source": [
    "# Parameters\n",
    "batch_size = 2100\n",
    "img_height = 28\n",
    "img_width = 28"
   ]
  },
  {
   "cell_type": "code",
   "execution_count": 44,
   "id": "3d468e1f",
   "metadata": {
    "ExecuteTime": {
     "end_time": "2021-08-17T12:21:30.337109Z",
     "start_time": "2021-08-17T12:21:29.173110Z"
    }
   },
   "outputs": [
    {
     "name": "stdout",
     "output_type": "stream",
     "text": [
      "Found 42000 files belonging to 10 classes.\n",
      "Using 33600 files for training.\n"
     ]
    }
   ],
   "source": [
    "train_ds = image_dataset_from_directory(\n",
    "    train_dir,\n",
    "    validation_split = 0.2,\n",
    "    subset='training',\n",
    "    seed = 123,\n",
    "    image_size= (img_height, img_width),\n",
    "    batch_size = batch_size)"
   ]
  },
  {
   "cell_type": "code",
   "execution_count": 45,
   "id": "bb9cfb36",
   "metadata": {
    "ExecuteTime": {
     "end_time": "2021-08-17T12:21:32.419599Z",
     "start_time": "2021-08-17T12:21:31.371970Z"
    }
   },
   "outputs": [
    {
     "name": "stdout",
     "output_type": "stream",
     "text": [
      "Found 42000 files belonging to 10 classes.\n",
      "Using 8400 files for validation.\n"
     ]
    }
   ],
   "source": [
    "val_ds = image_dataset_from_directory(\n",
    "    train_dir,\n",
    "    validation_split = 0.2,\n",
    "    subset='validation',\n",
    "    seed = 123,\n",
    "    image_size= (image_height, image_width),\n",
    "    batch_size = batch_size)"
   ]
  },
  {
   "cell_type": "code",
   "execution_count": 46,
   "id": "c7a5cdb5",
   "metadata": {
    "ExecuteTime": {
     "end_time": "2021-08-17T12:21:34.030885Z",
     "start_time": "2021-08-17T12:21:34.027094Z"
    }
   },
   "outputs": [
    {
     "name": "stdout",
     "output_type": "stream",
     "text": [
      "['0', '1', '2', '3', '4', '5', '6', '7', '8', '9']\n"
     ]
    }
   ],
   "source": [
    "class_names = train_ds.class_names\n",
    "print(class_names)"
   ]
  },
  {
   "cell_type": "markdown",
   "id": "ff4405e3",
   "metadata": {},
   "source": [
    "## Visualizing the data"
   ]
  },
  {
   "cell_type": "code",
   "execution_count": 32,
   "id": "721d7002",
   "metadata": {
    "ExecuteTime": {
     "end_time": "2021-08-17T12:13:57.748987Z",
     "start_time": "2021-08-17T12:13:57.243293Z"
    }
   },
   "outputs": [
    {
     "data": {
      "image/png": "[encoded data removed]",
      "text/plain": [
       "<Figure size 720x720 with 9 Axes>"
      ]
     },
     "metadata": {
      "needs_background": "light"
     },
     "output_type": "display_data"
    }
   ],
   "source": [
    "import matplotlib.pyplot as plt\n",
    "\n",
    "plt.figure(figsize=(10, 10))\n",
    "for images, labels in train_ds.take(1):\n",
    "    for i in range(9):\n",
    "        ax = plt.subplot(3, 3, i + 1)\n",
    "        plt.imshow(images[i].numpy().astype(\"uint8\"))\n",
    "        plt.title(class_names[labels[i]])\n",
    "        plt.axis(\"off\")"
   ]
  },
  {
   "cell_type": "code",
   "execution_count": 34,
   "id": "9fdeccab",
   "metadata": {
    "ExecuteTime": {
     "end_time": "2021-08-17T12:14:03.067685Z",
     "start_time": "2021-08-17T12:14:02.817438Z"
    }
   },
   "outputs": [
    {
     "name": "stdout",
     "output_type": "stream",
     "text": [
      "(2100, 28, 28, 3)\n",
      "(2100,)\n"
     ]
    }
   ],
   "source": [
    "for image_batch, labels_batch in train_ds:\n",
    "    print(image_batch.shape)\n",
    "    print(labels_batch.shape)\n",
    "    break"
   ]
  },
  {
   "cell_type": "code",
   "execution_count": 36,
   "id": "d4360bdb",
   "metadata": {
    "ExecuteTime": {
     "end_time": "2021-08-17T12:19:22.859973Z",
     "start_time": "2021-08-17T12:19:22.850715Z"
    }
   },
   "outputs": [],
   "source": [
    "AUTOTUNE = tf.data.AUTOTUNE\n",
    "\n",
    "train_ds = train_ds.cache().shuffle(1000).prefetch(buffer_size=AUTOTUNE)\n",
    "val_ds = val_ds.cache().prefetch(buffer_size=AUTOTUNE)"
   ]
  },
  {
   "cell_type": "code",
   "execution_count": 39,
   "id": "1dc57ca7",
   "metadata": {
    "ExecuteTime": {
     "end_time": "2021-08-17T12:19:56.138817Z",
     "start_time": "2021-08-17T12:19:56.116298Z"
    }
   },
   "outputs": [],
   "source": [
    "normalization_layer = layers.experimental.preprocessing.Rescaling(1./255)"
   ]
  },
  {
   "cell_type": "code",
   "execution_count": 40,
   "id": "e8f5e3ae",
   "metadata": {
    "ExecuteTime": {
     "end_time": "2021-08-17T12:20:10.946611Z",
     "start_time": "2021-08-17T12:20:10.151122Z"
    }
   },
   "outputs": [
    {
     "name": "stdout",
     "output_type": "stream",
     "text": [
      "0.0 1.0\n"
     ]
    }
   ],
   "source": [
    "normalized_ds = train_ds.map(lambda x, y: (normalization_layer(x), y))\n",
    "image_batch, labels_batch = next(iter(normalized_ds))\n",
    "first_image = image_batch[0]\n",
    "# Notice the pixels values are now in `[0,1]`.\n",
    "print(np.min(first_image), np.max(first_image))"
   ]
  },
  {
   "cell_type": "markdown",
   "id": "4d20ab33",
   "metadata": {},
   "source": [
    "## Creating the Model"
   ]
  },
  {
   "cell_type": "code",
   "execution_count": 51,
   "id": "ce21ed1e",
   "metadata": {
    "ExecuteTime": {
     "end_time": "2021-08-17T12:24:02.737886Z",
     "start_time": "2021-08-17T12:24:02.673915Z"
    }
   },
   "outputs": [],
   "source": [
    "num_classes = 10\n",
    "\n",
    "model = Sequential([\n",
    "  layers.experimental.preprocessing.Rescaling(1./255, input_shape=(img_height, img_width, 3)),\n",
    "  layers.Conv2D(16, 3, padding='same', activation='relu'),\n",
    "  layers.MaxPooling2D(),\n",
    "  layers.Conv2D(32, 3, padding='same', activation='relu'),\n",
    "  layers.MaxPooling2D(),\n",
    "  layers.Conv2D(64, 3, padding='same', activation='relu'),\n",
    "  layers.MaxPooling2D(),\n",
    "  layers.Flatten(),\n",
    "  layers.Dense(128, activation='relu'),\n",
    "  layers.Dense(num_classes)\n",
    "])"
   ]
  },
  {
   "cell_type": "code",
   "execution_count": 52,
   "id": "d3086d32",
   "metadata": {
    "ExecuteTime": {
     "end_time": "2021-08-17T12:24:03.673522Z",
     "start_time": "2021-08-17T12:24:03.665712Z"
    }
   },
   "outputs": [],
   "source": [
    "# Compiling the model\n",
    "\n",
    "model.compile(optimizer='adam',\n",
    "              loss=tf.keras.losses.SparseCategoricalCrossentropy(from_logits=True),\n",
    "              metrics=['accuracy'])"
   ]
  },
  {
   "cell_type": "code",
   "execution_count": 53,
   "id": "5a142d12",
   "metadata": {
    "ExecuteTime": {
     "end_time": "2021-08-17T12:24:04.850193Z",
     "start_time": "2021-08-17T12:24:04.844491Z"
    }
   },
   "outputs": [
    {
     "name": "stdout",
     "output_type": "stream",
     "text": [
      "Model: \"sequential_1\"\n",
      "_________________________________________________________________\n",
      "Layer (type)                 Output Shape              Param #   \n",
      "=================================================================\n",
      "rescaling_2 (Rescaling)      (None, 28, 28, 3)         0         \n",
      "_________________________________________________________________\n",
      "conv2d_3 (Conv2D)            (None, 28, 28, 16)        448       \n",
      "_________________________________________________________________\n",
      "max_pooling2d_3 (MaxPooling2 (None, 14, 14, 16)        0         \n",
      "_________________________________________________________________\n",
      "conv2d_4 (Conv2D)            (None, 14, 14, 32)        4640      \n",
      "_________________________________________________________________\n",
      "max_pooling2d_4 (MaxPooling2 (None, 7, 7, 32)          0         \n",
      "_________________________________________________________________\n",
      "conv2d_5 (Conv2D)            (None, 7, 7, 64)          18496     \n",
      "_________________________________________________________________\n",
      "max_pooling2d_5 (MaxPooling2 (None, 3, 3, 64)          0         \n",
      "_________________________________________________________________\n",
      "flatten_1 (Flatten)          (None, 576)               0         \n",
      "_________________________________________________________________\n",
      "dense_2 (Dense)              (None, 128)               73856     \n",
      "_________________________________________________________________\n",
      "dense_3 (Dense)              (None, 10)                1290      \n",
      "=================================================================\n",
      "Total params: 98,730\n",
      "Trainable params: 98,730\n",
      "Non-trainable params: 0\n",
      "_________________________________________________________________\n"
     ]
    }
   ],
   "source": [
    "model.summary()"
   ]
  },
  {
   "cell_type": "markdown",
   "id": "27969355",
   "metadata": {},
   "source": [
    "## Training the model"
   ]
  },
  {
   "cell_type": "code",
   "execution_count": 54,
   "id": "61bf0717",
   "metadata": {
    "ExecuteTime": {
     "end_time": "2021-08-17T12:25:37.250582Z",
     "start_time": "2021-08-17T12:24:06.878565Z"
    }
   },
   "outputs": [
    {
     "name": "stdout",
     "output_type": "stream",
     "text": [
      "Epoch 1/10\n",
      "16/16 [==============================] - 8s 467ms/step - loss: 1.9301 - accuracy: 0.5142 - val_loss: 1.1170 - val_accuracy: 0.7912\n",
      "Epoch 2/10\n",
      "16/16 [==============================] - 8s 483ms/step - loss: 0.6416 - accuracy: 0.8270 - val_loss: 0.4077 - val_accuracy: 0.8776\n",
      "Epoch 3/10\n",
      "16/16 [==============================] - 7s 444ms/step - loss: 0.3084 - accuracy: 0.9093 - val_loss: 0.2381 - val_accuracy: 0.9268\n",
      "Epoch 4/10\n",
      "16/16 [==============================] - 9s 570ms/step - loss: 0.1981 - accuracy: 0.9413 - val_loss: 0.1733 - val_accuracy: 0.9499\n",
      "Epoch 5/10\n",
      "16/16 [==============================] - 10s 591ms/step - loss: 0.1447 - accuracy: 0.9566 - val_loss: 0.1330 - val_accuracy: 0.9600\n",
      "Epoch 6/10\n",
      "16/16 [==============================] - 10s 583ms/step - loss: 0.1170 - accuracy: 0.9643 - val_loss: 0.1105 - val_accuracy: 0.9674\n",
      "Epoch 7/10\n",
      "16/16 [==============================] - 9s 567ms/step - loss: 0.0977 - accuracy: 0.9699 - val_loss: 0.0985 - val_accuracy: 0.9701\n",
      "Epoch 8/10\n",
      "16/16 [==============================] - 10s 581ms/step - loss: 0.0849 - accuracy: 0.9745 - val_loss: 0.0857 - val_accuracy: 0.9749\n",
      "Epoch 9/10\n",
      "16/16 [==============================] - 10s 586ms/step - loss: 0.0747 - accuracy: 0.9774 - val_loss: 0.0829 - val_accuracy: 0.9748\n",
      "Epoch 10/10\n",
      "16/16 [==============================] - 9s 568ms/step - loss: 0.0706 - accuracy: 0.9780 - val_loss: 0.0825 - val_accuracy: 0.9743\n"
     ]
    }
   ],
   "source": [
    "epochs=10\n",
    "history = model.fit(\n",
    "  train_ds,\n",
    "  validation_data=val_ds,\n",
    "  epochs=epochs\n",
    ")"
   ]
  },
  {
   "cell_type": "code",
   "execution_count": 55,
   "id": "6d214d08",
   "metadata": {
    "ExecuteTime": {
     "end_time": "2021-08-17T12:25:49.067711Z",
     "start_time": "2021-08-17T12:25:48.853834Z"
    }
   },
   "outputs": [
    {
     "data": {
      "image/png": "[encoded data removed]",
      "text/plain": [
       "<Figure size 576x576 with 2 Axes>"
      ]
     },
     "metadata": {
      "needs_background": "light"
     },
     "output_type": "display_data"
    }
   ],
   "source": [
    "acc = history.history['accuracy']\n",
    "val_acc = history.history['val_accuracy']\n",
    "\n",
    "loss = history.history['loss']\n",
    "val_loss = history.history['val_loss']\n",
    "\n",
    "epochs_range = range(epochs)\n",
    "\n",
    "plt.figure(figsize=(8, 8))\n",
    "plt.subplot(1, 2, 1)\n",
    "plt.plot(epochs_range, acc, label='Training Accuracy')\n",
    "plt.plot(epochs_range, val_acc, label='Validation Accuracy')\n",
    "plt.legend(loc='lower right')\n",
    "plt.title('Training and Validation Accuracy')\n",
    "\n",
    "plt.subplot(1, 2, 2)\n",
    "plt.plot(epochs_range, loss, label='Training Loss')\n",
    "plt.plot(epochs_range, val_loss, label='Validation Loss')\n",
    "plt.legend(loc='upper right')\n",
    "plt.title('Training and Validation Loss')\n",
    "plt.show()"
   ]
  },
  {
   "cell_type": "markdown",
   "id": "036f08ae",
   "metadata": {},
   "source": [
    "## Data Augmentation"
   ]
  },
  {
   "cell_type": "code",
   "execution_count": 56,
   "id": "1a92fc35",
   "metadata": {
    "ExecuteTime": {
     "end_time": "2021-08-17T12:26:29.657304Z",
     "start_time": "2021-08-17T12:26:29.548880Z"
    }
   },
   "outputs": [],
   "source": [
    "data_augmentation = keras.Sequential(\n",
    "  [\n",
    "    layers.experimental.preprocessing.RandomFlip(\"horizontal\", \n",
    "                                                 input_shape=(img_height, \n",
    "                                                              img_width,\n",
    "                                                              3)),\n",
    "    layers.experimental.preprocessing.RandomRotation(0.1),\n",
    "    layers.experimental.preprocessing.RandomZoom(0.1),\n",
    "  ]\n",
    ")"
   ]
  },
  {
   "cell_type": "code",
   "execution_count": 57,
   "id": "4c6e3331",
   "metadata": {
    "ExecuteTime": {
     "end_time": "2021-08-17T12:26:40.811413Z",
     "start_time": "2021-08-17T12:26:39.732720Z"
    }
   },
   "outputs": [
    {
     "data": {
      "image/png": "[encoded data removed]",
      "text/plain": [
       "<Figure size 720x720 with 9 Axes>"
      ]
     },
     "metadata": {
      "needs_background": "light"
     },
     "output_type": "display_data"
    }
   ],
   "source": [
    "plt.figure(figsize=(10, 10))\n",
    "for images, _ in train_ds.take(1):\n",
    "  for i in range(9):\n",
    "    augmented_images = data_augmentation(images)\n",
    "    ax = plt.subplot(3, 3, i + 1)\n",
    "    plt.imshow(augmented_images[0].numpy().astype(\"uint8\"))\n",
    "    plt.axis(\"off\")"
   ]
  },
  {
   "cell_type": "code",
   "execution_count": 58,
   "id": "292bdf29",
   "metadata": {
    "ExecuteTime": {
     "end_time": "2021-08-17T12:27:18.972185Z",
     "start_time": "2021-08-17T12:27:18.835208Z"
    }
   },
   "outputs": [],
   "source": [
    "## Dropout\n",
    "\n",
    "model = Sequential([\n",
    "  data_augmentation,\n",
    "  layers.experimental.preprocessing.Rescaling(1./255),\n",
    "  layers.Conv2D(16, 3, padding='same', activation='relu'),\n",
    "  layers.MaxPooling2D(),\n",
    "  layers.Conv2D(32, 3, padding='same', activation='relu'),\n",
    "  layers.MaxPooling2D(),\n",
    "  layers.Conv2D(64, 3, padding='same', activation='relu'),\n",
    "  layers.MaxPooling2D(),\n",
    "  layers.Dropout(0.2),\n",
    "  layers.Flatten(),\n",
    "  layers.Dense(128, activation='relu'),\n",
    "  layers.Dense(num_classes)\n",
    "])"
   ]
  },
  {
   "cell_type": "code",
   "execution_count": 59,
   "id": "4ccb3d20",
   "metadata": {
    "ExecuteTime": {
     "end_time": "2021-08-17T12:27:28.830101Z",
     "start_time": "2021-08-17T12:27:28.816999Z"
    }
   },
   "outputs": [],
   "source": [
    "model.compile(optimizer='adam',\n",
    "              loss=tf.keras.losses.SparseCategoricalCrossentropy(from_logits=True),\n",
    "              metrics=['accuracy'])"
   ]
  },
  {
   "cell_type": "code",
   "execution_count": 60,
   "id": "26ba8cf6",
   "metadata": {
    "ExecuteTime": {
     "end_time": "2021-08-17T12:27:33.997441Z",
     "start_time": "2021-08-17T12:27:33.982531Z"
    }
   },
   "outputs": [
    {
     "name": "stdout",
     "output_type": "stream",
     "text": [
      "Model: \"sequential_3\"\n",
      "_________________________________________________________________\n",
      "Layer (type)                 Output Shape              Param #   \n",
      "=================================================================\n",
      "sequential_2 (Sequential)    (None, 28, 28, 3)         0         \n",
      "_________________________________________________________________\n",
      "rescaling_3 (Rescaling)      (None, 28, 28, 3)         0         \n",
      "_________________________________________________________________\n",
      "conv2d_6 (Conv2D)            (None, 28, 28, 16)        448       \n",
      "_________________________________________________________________\n",
      "max_pooling2d_6 (MaxPooling2 (None, 14, 14, 16)        0         \n",
      "_________________________________________________________________\n",
      "conv2d_7 (Conv2D)            (None, 14, 14, 32)        4640      \n",
      "_________________________________________________________________\n",
      "max_pooling2d_7 (MaxPooling2 (None, 7, 7, 32)          0         \n",
      "_________________________________________________________________\n",
      "conv2d_8 (Conv2D)            (None, 7, 7, 64)          18496     \n",
      "_________________________________________________________________\n",
      "max_pooling2d_8 (MaxPooling2 (None, 3, 3, 64)          0         \n",
      "_________________________________________________________________\n",
      "dropout (Dropout)            (None, 3, 3, 64)          0         \n",
      "_________________________________________________________________\n",
      "flatten_2 (Flatten)          (None, 576)               0         \n",
      "_________________________________________________________________\n",
      "dense_4 (Dense)              (None, 128)               73856     \n",
      "_________________________________________________________________\n",
      "dense_5 (Dense)              (None, 10)                1290      \n",
      "=================================================================\n",
      "Total params: 98,730\n",
      "Trainable params: 98,730\n",
      "Non-trainable params: 0\n",
      "_________________________________________________________________\n"
     ]
    }
   ],
   "source": [
    "model.summary()"
   ]
  },
  {
   "cell_type": "code",
   "execution_count": 61,
   "id": "3fe4e7ff",
   "metadata": {
    "ExecuteTime": {
     "end_time": "2021-08-17T12:30:17.990800Z",
     "start_time": "2021-08-17T12:27:42.271241Z"
    }
   },
   "outputs": [
    {
     "name": "stdout",
     "output_type": "stream",
     "text": [
      "Epoch 1/15\n",
      "16/16 [==============================] - 9s 506ms/step - loss: 1.9917 - accuracy: 0.3727 - val_loss: 1.1399 - val_accuracy: 0.6974\n",
      "Epoch 2/15\n",
      "16/16 [==============================] - 8s 501ms/step - loss: 1.1501 - accuracy: 0.6179 - val_loss: 0.5917 - val_accuracy: 0.8198\n",
      "Epoch 3/15\n",
      "16/16 [==============================] - 9s 533ms/step - loss: 0.7948 - accuracy: 0.7417 - val_loss: 0.4353 - val_accuracy: 0.8645\n",
      "Epoch 4/15\n",
      "16/16 [==============================] - 11s 702ms/step - loss: 0.6292 - accuracy: 0.7926 - val_loss: 0.3570 - val_accuracy: 0.8887\n",
      "Epoch 5/15\n",
      "16/16 [==============================] - 12s 744ms/step - loss: 0.5337 - accuracy: 0.8248 - val_loss: 0.3120 - val_accuracy: 0.9010\n",
      "Epoch 6/15\n",
      "16/16 [==============================] - 11s 669ms/step - loss: 0.4722 - accuracy: 0.8443 - val_loss: 0.2741 - val_accuracy: 0.9156\n",
      "Epoch 7/15\n",
      "16/16 [==============================] - 11s 651ms/step - loss: 0.4290 - accuracy: 0.8585 - val_loss: 0.2517 - val_accuracy: 0.9240\n",
      "Epoch 8/15\n",
      "16/16 [==============================] - 11s 650ms/step - loss: 0.3895 - accuracy: 0.8718 - val_loss: 0.2232 - val_accuracy: 0.9315\n",
      "Epoch 9/15\n",
      "16/16 [==============================] - 11s 649ms/step - loss: 0.3533 - accuracy: 0.8840 - val_loss: 0.2129 - val_accuracy: 0.9330\n",
      "Epoch 10/15\n",
      "16/16 [==============================] - 11s 645ms/step - loss: 0.3311 - accuracy: 0.8903 - val_loss: 0.1950 - val_accuracy: 0.9402\n",
      "Epoch 11/15\n",
      "16/16 [==============================] - 11s 640ms/step - loss: 0.3036 - accuracy: 0.9023 - val_loss: 0.1816 - val_accuracy: 0.9464\n",
      "Epoch 12/15\n",
      "16/16 [==============================] - 11s 642ms/step - loss: 0.2844 - accuracy: 0.9083 - val_loss: 0.1657 - val_accuracy: 0.9524\n",
      "Epoch 13/15\n",
      "16/16 [==============================] - 11s 641ms/step - loss: 0.2701 - accuracy: 0.9138 - val_loss: 0.1583 - val_accuracy: 0.9545\n",
      "Epoch 14/15\n",
      "16/16 [==============================] - 11s 641ms/step - loss: 0.2490 - accuracy: 0.9197 - val_loss: 0.1546 - val_accuracy: 0.9543\n",
      "Epoch 15/15\n",
      "16/16 [==============================] - 11s 640ms/step - loss: 0.2331 - accuracy: 0.9260 - val_loss: 0.1417 - val_accuracy: 0.9564\n"
     ]
    }
   ],
   "source": [
    "epochs = 15\n",
    "history = model.fit(\n",
    "  train_ds,\n",
    "  validation_data=val_ds,\n",
    "  epochs=epochs\n",
    ")"
   ]
  },
  {
   "cell_type": "code",
   "execution_count": 62,
   "id": "60377689",
   "metadata": {
    "ExecuteTime": {
     "end_time": "2021-08-17T12:30:49.460214Z",
     "start_time": "2021-08-17T12:30:49.265820Z"
    }
   },
   "outputs": [
    {
     "data": {
      "image/png": "[encoded data removed]",
      "text/plain": [
       "<Figure size 576x576 with 2 Axes>"
      ]
     },
     "metadata": {
      "needs_background": "light"
     },
     "output_type": "display_data"
    }
   ],
   "source": [
    "acc = history.history['accuracy']\n",
    "val_acc = history.history['val_accuracy']\n",
    "\n",
    "loss = history.history['loss']\n",
    "val_loss = history.history['val_loss']\n",
    "\n",
    "epochs_range = range(epochs)\n",
    "\n",
    "plt.figure(figsize=(8, 8))\n",
    "plt.subplot(1, 2, 1)\n",
    "plt.plot(epochs_range, acc, label='Training Accuracy')\n",
    "plt.plot(epochs_range, val_acc, label='Validation Accuracy')\n",
    "plt.legend(loc='lower right')\n",
    "plt.title('Training and Validation Accuracy')\n",
    "\n",
    "plt.subplot(1, 2, 2)\n",
    "plt.plot(epochs_range, loss, label='Training Loss')\n",
    "plt.plot(epochs_range, val_loss, label='Validation Loss')\n",
    "plt.legend(loc='upper right')\n",
    "plt.title('Training and Validation Loss')\n",
    "plt.show()"
   ]
  },
  {
   "cell_type": "code",
   "execution_count": null,
   "id": "15088d52",
   "metadata": {},
   "outputs": [],
   "source": []
  }
 ],
 "metadata": {
  "kernelspec": {
   "display_name": "Python 3",
   "language": "python",
   "name": "python3"
  },
  "language_info": {
   "codemirror_mode": {
    "name": "ipython",
    "version": 3
   },
   "file_extension": ".py",
   "mimetype": "text/x-python",
   "name": "python",
   "nbconvert_exporter": "python",
   "pygments_lexer": "ipython3",
   "version": "3.8.8"
  },
  "toc": {
   "base_numbering": 1,
   "nav_menu": {},
   "number_sections": true,
   "sideBar": true,
   "skip_h1_title": false,
   "title_cell": "Table of Contents",
   "title_sidebar": "Contents",
   "toc_cell": false,
   "toc_position": {},
   "toc_section_display": true,
   "toc_window_display": false
  },
  "varInspector": {
   "cols": {
    "lenName": 16,
    "lenType": 16,
    "lenVar": 40
   },
   "kernels_config": {
    "python": {
     "delete_cmd_postfix": "",
     "delete_cmd_prefix": "del ",
     "library": "var_list.py",
     "varRefreshCmd": "print(var_dic_list())"
    },
    "r": {
     "delete_cmd_postfix": ") ",
     "delete_cmd_prefix": "rm(",
     "library": "var_list.r",
     "varRefreshCmd": "cat(var_dic_list()) "
    }
   },
   "types_to_exclude": [
    "module",
    "function",
    "builtin_function_or_method",
    "instance",
    "_Feature"
   ],
   "window_display": false
  }
 },
 "nbformat": 4,
 "nbformat_minor": 5
}
